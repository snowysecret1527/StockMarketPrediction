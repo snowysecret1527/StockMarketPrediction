{
 "cells": [
  {
   "cell_type": "code",
   "execution_count": 84,
   "id": "96bf045b",
   "metadata": {},
   "outputs": [],
   "source": [
    "import pandas as pd\n",
    "import numpy as np\n",
    "\n",
    "import matplotlib. pyplot as plt\n",
    "import matplotlib\n",
    "from sklearn.preprocessing import MinMaxScaler\n",
    "from keras. layers import LSTM, Dense, Dropout\n",
    "from sklearn.model_selection import TimeSeriesSplit\n",
    "from sklearn.metrics import mean_squared_error, r2_score\n",
    "import matplotlib. dates as mandates\n",
    "from sklearn.preprocessing import MinMaxScaler\n",
    "from tensorflow.keras.models import Sequential\n",
    "from tensorflow.keras.layers import LSTM, Dense\n",
    "from tensorflow.keras.callbacks import EarlyStopping\n"
   ]
  },
  {
   "cell_type": "code",
   "execution_count": 85,
   "id": "541c4356",
   "metadata": {},
   "outputs": [
    {
     "data": {
      "text/html": [
       "<div>\n",
       "<style scoped>\n",
       "    .dataframe tbody tr th:only-of-type {\n",
       "        vertical-align: middle;\n",
       "    }\n",
       "\n",
       "    .dataframe tbody tr th {\n",
       "        vertical-align: top;\n",
       "    }\n",
       "\n",
       "    .dataframe thead th {\n",
       "        text-align: right;\n",
       "    }\n",
       "</style>\n",
       "<table border=\"1\" class=\"dataframe\">\n",
       "  <thead>\n",
       "    <tr style=\"text-align: right;\">\n",
       "      <th></th>\n",
       "      <th>Unnamed: 0</th>\n",
       "      <th>1. open</th>\n",
       "      <th>2. high</th>\n",
       "      <th>3. low</th>\n",
       "      <th>4. close</th>\n",
       "      <th>5. adjusted close</th>\n",
       "      <th>6. volume</th>\n",
       "      <th>7. dividend amount</th>\n",
       "    </tr>\n",
       "  </thead>\n",
       "  <tbody>\n",
       "    <tr>\n",
       "      <th>0</th>\n",
       "      <td>2023-05-26</td>\n",
       "      <td>306.97</td>\n",
       "      <td>333.40</td>\n",
       "      <td>303.40</td>\n",
       "      <td>332.89</td>\n",
       "      <td>332.8900</td>\n",
       "      <td>525403318</td>\n",
       "      <td>0.68</td>\n",
       "    </tr>\n",
       "    <tr>\n",
       "      <th>1</th>\n",
       "      <td>2023-04-28</td>\n",
       "      <td>286.52</td>\n",
       "      <td>308.93</td>\n",
       "      <td>275.37</td>\n",
       "      <td>307.26</td>\n",
       "      <td>306.5960</td>\n",
       "      <td>551356990</td>\n",
       "      <td>0.00</td>\n",
       "    </tr>\n",
       "    <tr>\n",
       "      <th>2</th>\n",
       "      <td>2023-03-31</td>\n",
       "      <td>250.76</td>\n",
       "      <td>289.27</td>\n",
       "      <td>245.61</td>\n",
       "      <td>288.30</td>\n",
       "      <td>287.6770</td>\n",
       "      <td>747751976</td>\n",
       "      <td>0.00</td>\n",
       "    </tr>\n",
       "    <tr>\n",
       "      <th>3</th>\n",
       "      <td>2023-02-28</td>\n",
       "      <td>248.00</td>\n",
       "      <td>276.76</td>\n",
       "      <td>245.47</td>\n",
       "      <td>249.42</td>\n",
       "      <td>248.8810</td>\n",
       "      <td>615540778</td>\n",
       "      <td>0.68</td>\n",
       "    </tr>\n",
       "    <tr>\n",
       "      <th>4</th>\n",
       "      <td>2023-01-31</td>\n",
       "      <td>243.08</td>\n",
       "      <td>249.83</td>\n",
       "      <td>219.35</td>\n",
       "      <td>247.81</td>\n",
       "      <td>246.6517</td>\n",
       "      <td>666168068</td>\n",
       "      <td>0.00</td>\n",
       "    </tr>\n",
       "  </tbody>\n",
       "</table>\n",
       "</div>"
      ],
      "text/plain": [
       "   Unnamed: 0  1. open  2. high  3. low  4. close  5. adjusted close  \\\n",
       "0  2023-05-26   306.97   333.40  303.40    332.89           332.8900   \n",
       "1  2023-04-28   286.52   308.93  275.37    307.26           306.5960   \n",
       "2  2023-03-31   250.76   289.27  245.61    288.30           287.6770   \n",
       "3  2023-02-28   248.00   276.76  245.47    249.42           248.8810   \n",
       "4  2023-01-31   243.08   249.83  219.35    247.81           246.6517   \n",
       "\n",
       "   6. volume  7. dividend amount  \n",
       "0  525403318                0.68  \n",
       "1  551356990                0.00  \n",
       "2  747751976                0.00  \n",
       "3  615540778                0.68  \n",
       "4  666168068                0.00  "
      ]
     },
     "execution_count": 85,
     "metadata": {},
     "output_type": "execute_result"
    }
   ],
   "source": [
    "df=pd.read_csv(\"Stock_Data.csv\")\n",
    "df.head()"
   ]
  },
  {
   "cell_type": "code",
   "execution_count": 86,
   "id": "00bf915e",
   "metadata": {},
   "outputs": [
    {
     "data": {
      "text/plain": [
       "(282, 8)"
      ]
     },
     "execution_count": 86,
     "metadata": {},
     "output_type": "execute_result"
    }
   ],
   "source": [
    "df.shape"
   ]
  },
  {
   "cell_type": "code",
   "execution_count": 87,
   "id": "2b24724f",
   "metadata": {},
   "outputs": [
    {
     "data": {
      "text/plain": [
       "0"
      ]
     },
     "execution_count": 87,
     "metadata": {},
     "output_type": "execute_result"
    }
   ],
   "source": [
    "df.isnull().values.sum()"
   ]
  },
  {
   "cell_type": "code",
   "execution_count": 88,
   "id": "e657ba23",
   "metadata": {},
   "outputs": [
    {
     "data": {
      "text/plain": [
       "<AxesSubplot:>"
      ]
     },
     "execution_count": 88,
     "metadata": {},
     "output_type": "execute_result"
    },
    {
     "data": {
      "image/png": "[encoded data removed]",
      "text/plain": [
       "<Figure size 432x288 with 1 Axes>"
      ]
     },
     "metadata": {
      "needs_background": "light"
     },
     "output_type": "display_data"
    }
   ],
   "source": [
    "df['4. close'].plot()"
   ]
  },
  {
   "cell_type": "code",
   "execution_count": 89,
   "id": "4793066b",
   "metadata": {},
   "outputs": [],
   "source": [
    "output_var = pd.DataFrame(df['4. close'])\n",
    "#Selecting the Features\n",
    "features = ['1. open','2. high','3. low','4. close','5. adjusted close','6. volume','7. dividend amount']"
   ]
  },
  {
   "cell_type": "code",
   "execution_count": 90,
   "id": "29285c25",
   "metadata": {},
   "outputs": [
    {
     "data": {
      "text/html": [
       "<div>\n",
       "<style scoped>\n",
       "    .dataframe tbody tr th:only-of-type {\n",
       "        vertical-align: middle;\n",
       "    }\n",
       "\n",
       "    .dataframe tbody tr th {\n",
       "        vertical-align: top;\n",
       "    }\n",
       "\n",
       "    .dataframe thead th {\n",
       "        text-align: right;\n",
       "    }\n",
       "</style>\n",
       "<table border=\"1\" class=\"dataframe\">\n",
       "  <thead>\n",
       "    <tr style=\"text-align: right;\">\n",
       "      <th></th>\n",
       "      <th>1. open</th>\n",
       "      <th>2. high</th>\n",
       "      <th>3. low</th>\n",
       "      <th>4. close</th>\n",
       "      <th>5. adjusted close</th>\n",
       "      <th>6. volume</th>\n",
       "      <th>7. dividend amount</th>\n",
       "    </tr>\n",
       "  </thead>\n",
       "  <tbody>\n",
       "    <tr>\n",
       "      <th>0</th>\n",
       "      <td>0.911122</td>\n",
       "      <td>0.950815</td>\n",
       "      <td>0.926260</td>\n",
       "      <td>0.989287</td>\n",
       "      <td>1.000000</td>\n",
       "      <td>0.059112</td>\n",
       "      <td>0.220779</td>\n",
       "    </tr>\n",
       "    <tr>\n",
       "      <th>1</th>\n",
       "      <td>0.847079</td>\n",
       "      <td>0.876840</td>\n",
       "      <td>0.836276</td>\n",
       "      <td>0.909236</td>\n",
       "      <td>0.918033</td>\n",
       "      <td>0.068805</td>\n",
       "      <td>0.000000</td>\n",
       "    </tr>\n",
       "    <tr>\n",
       "      <th>2</th>\n",
       "      <td>0.735089</td>\n",
       "      <td>0.817407</td>\n",
       "      <td>0.740738</td>\n",
       "      <td>0.850017</td>\n",
       "      <td>0.859056</td>\n",
       "      <td>0.142157</td>\n",
       "      <td>0.000000</td>\n",
       "    </tr>\n",
       "    <tr>\n",
       "      <th>3</th>\n",
       "      <td>0.726446</td>\n",
       "      <td>0.779588</td>\n",
       "      <td>0.740289</td>\n",
       "      <td>0.728582</td>\n",
       "      <td>0.738117</td>\n",
       "      <td>0.092777</td>\n",
       "      <td>0.220779</td>\n",
       "    </tr>\n",
       "    <tr>\n",
       "      <th>4</th>\n",
       "      <td>0.711038</td>\n",
       "      <td>0.698177</td>\n",
       "      <td>0.656437</td>\n",
       "      <td>0.723553</td>\n",
       "      <td>0.731167</td>\n",
       "      <td>0.111686</td>\n",
       "      <td>0.000000</td>\n",
       "    </tr>\n",
       "  </tbody>\n",
       "</table>\n",
       "</div>"
      ],
      "text/plain": [
       "    1. open   2. high    3. low  4. close  5. adjusted close  6. volume  \\\n",
       "0  0.911122  0.950815  0.926260  0.989287           1.000000   0.059112   \n",
       "1  0.847079  0.876840  0.836276  0.909236           0.918033   0.068805   \n",
       "2  0.735089  0.817407  0.740738  0.850017           0.859056   0.142157   \n",
       "3  0.726446  0.779588  0.740289  0.728582           0.738117   0.092777   \n",
       "4  0.711038  0.698177  0.656437  0.723553           0.731167   0.111686   \n",
       "\n",
       "   7. dividend amount  \n",
       "0            0.220779  \n",
       "1            0.000000  \n",
       "2            0.000000  \n",
       "3            0.220779  \n",
       "4            0.000000  "
      ]
     },
     "execution_count": 90,
     "metadata": {},
     "output_type": "execute_result"
    }
   ],
   "source": [
    "scaler = MinMaxScaler()\n",
    "feature_transform = scaler.fit_transform(df[features])\n",
    "feature_transform= pd.DataFrame(columns=features, data=feature_transform, index=df.index)\n",
    "feature_transform.head()"
   ]
  },
  {
   "cell_type": "code",
   "execution_count": 91,
   "id": "7a679c44",
   "metadata": {},
   "outputs": [],
   "source": [
    "timesplit= TimeSeriesSplit(n_splits=10)\n",
    "for train_index, test_index in timesplit.split(feature_transform):\n",
    "        X_train, X_test = feature_transform[:len(train_index)], feature_transform[len(train_index): (len(train_index)+len(test_index))]\n",
    "        y_train, y_test = output_var[:len(train_index)].values.ravel(),output_var[len(train_index): (len(train_index)+len(test_index))].values.ravel()"
   ]
  },
  {
   "cell_type": "code",
   "execution_count": 92,
   "id": "1633e9e5",
   "metadata": {},
   "outputs": [],
   "source": [
    "trainX =np.array(X_train)\n",
    "testX =np.array(X_test)\n",
    "X_train = trainX.reshape(X_train.shape[0], 1, X_train.shape[1])\n",
    "X_test = testX.reshape(X_test.shape[0], 1, X_test.shape[1])"
   ]
  },
  {
   "cell_type": "code",
   "execution_count": 93,
   "id": "f097b995",
   "metadata": {},
   "outputs": [],
   "source": [
    "#Building the LSTM Model\n",
    "model = Sequential()\n",
    "model.add(LSTM(32, input_shape=(1, trainX.shape[1]), activation='relu', return_sequences=False))\n",
    "model.add(Dense(1))\n",
    "model.compile(loss='mean_squared_error', optimizer='adam')\n"
   ]
  },
  {
   "cell_type": "code",
   "execution_count": 94,
   "id": "8a3ad9c8",
   "metadata": {},
   "outputs": [
    {
     "name": "stdout",
     "output_type": "stream",
     "text": [
      "1/1 [==============================] - 0s 408ms/step\n"
     ]
    }
   ],
   "source": [
    "y_pred= model.predict(X_test)"
   ]
  },
  {
   "cell_type": "code",
   "execution_count": 95,
   "id": "e767249d",
   "metadata": {},
   "outputs": [
    {
     "data": {
      "image/png": "[encoded data removed]",
      "text/plain": [
       "<Figure size 432x288 with 1 Axes>"
      ]
     },
     "metadata": {
      "needs_background": "light"
     },
     "output_type": "display_data"
    }
   ],
   "source": [
    "plt.plot(y_test, label='True Value')\n",
    "plt.plot(y_pred, label='LSTM Value')\n",
    "plt.title('Prediction by LSTM')\n",
    "plt.xlabel('Time Scale')\n",
    "plt.ylabel('Scaled USD')\n",
    "plt.legend()\n",
    "plt.show()"
   ]
  },
  {
   "cell_type": "code",
   "execution_count": 96,
   "id": "36322a0b",
   "metadata": {},
   "outputs": [
    {
     "name": "stdout",
     "output_type": "stream",
     "text": [
      "RMSE: 71.55180131478197\n"
     ]
    }
   ],
   "source": [
    "rmse = np.sqrt(np.mean((y_test - y_pred)**2))\n",
    "print(\"RMSE:\", rmse)"
   ]
  },
  {
   "cell_type": "code",
   "execution_count": null,
   "id": "39c451a5",
   "metadata": {},
   "outputs": [],
   "source": []
  },
  {
   "cell_type": "code",
   "execution_count": null,
   "id": "b37baba4",
   "metadata": {},
   "outputs": [],
   "source": []
  }
 ],
 "metadata": {
  "kernelspec": {
   "display_name": "Python 3 (ipykernel)",
   "language": "python",
   "name": "python3"
  },
  "language_info": {
   "codemirror_mode": {
    "name": "ipython",
    "version": 3
   },
   "file_extension": ".py",
   "mimetype": "text/x-python",
   "name": "python",
   "nbconvert_exporter": "python",
   "pygments_lexer": "ipython3",
   "version": "3.9.7"
  }
 },
 "nbformat": 4,
 "nbformat_minor": 5
}
